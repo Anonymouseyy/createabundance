{
 "cells": [
  {
   "cell_type": "code",
   "execution_count": 2,
   "metadata": {},
   "outputs": [
    {
     "data": {
      "text/plain": [
       "32033"
      ]
     },
     "execution_count": 2,
     "metadata": {},
     "output_type": "execute_result"
    }
   ],
   "source": [
    "words = open('names.txt', 'r').read().splitlines()\n",
    "len(words)"
   ]
  },
  {
   "cell_type": "code",
   "execution_count": 3,
   "metadata": {},
   "outputs": [],
   "source": [
    "bigram_model = {}\n",
    "\n",
    "for w in words:\n",
    "    chars = ['<S>'] + list(w) + ['<E>']\n",
    "    for ch1, ch2 in zip(chars, chars[1:]):\n",
    "        bigram = (ch1, ch2)\n",
    "        bigram_model[bigram] = bigram_model.get(bigram, 0) + 1"
   ]
  },
  {
   "cell_type": "code",
   "execution_count": 4,
   "metadata": {},
   "outputs": [],
   "source": [
    "import torch"
   ]
  },
  {
   "cell_type": "code",
   "execution_count": 5,
   "metadata": {},
   "outputs": [],
   "source": [
    "N = torch.zeros((27, 27), dtype=torch.int32)\n",
    "\n",
    "chars = sorted(list(set(''.join(words))))\n",
    "str_to_int = {s: i+1 for i, s in enumerate(chars)}\n",
    "str_to_int['.'] = 0\n",
    "int_to_str = {i: s for s, i in str_to_int.items()}\n",
    "\n",
    "for w in words:\n",
    "    chars = ['.'] + list(w) + ['.']\n",
    "    for ch1, ch2 in zip(chars, chars[1:]):\n",
    "        i1 = str_to_int[ch1]\n",
    "        i2 = str_to_int[ch2]\n",
    "\n",
    "        N[i1, i2] += 1"
   ]
  },
  {
   "cell_type": "code",
   "execution_count": 9,
   "metadata": {},
   "outputs": [],
   "source": [
    "# Efficiency, don't normalize every loop\n",
    "P = N.float()\n",
    "P /= P.sum(1, keepdim=True)"
   ]
  },
  {
   "cell_type": "code",
   "execution_count": 11,
   "metadata": {},
   "outputs": [
    {
     "name": "stdout",
     "output_type": "stream",
     "text": [
      "kodoleiyn\n",
      "tviaya\n",
      "kawia\n",
      "jalon\n",
      "heliezi\n"
     ]
    }
   ],
   "source": [
    "g = torch.Generator()\n",
    "names = 5\n",
    "\n",
    "for _ in range(names):\n",
    "    new_name = ''\n",
    "    char = '.'\n",
    "\n",
    "    while True:\n",
    "        p = P[str_to_int[char]]\n",
    "\n",
    "        # p = N[str_to_int[char]].float()\n",
    "        # p /= p.sum()    \n",
    "\n",
    "        char = int_to_str[torch.multinomial(p, num_samples=1, replacement=True, generator=g).item()]\n",
    "        new_name += char\n",
    "\n",
    "        if char == '.':\n",
    "            break\n",
    "\n",
    "    new_name = new_name[:-1]\n",
    "    print(new_name)"
   ]
  },
  {
   "cell_type": "code",
   "execution_count": 23,
   "metadata": {},
   "outputs": [
    {
     "data": {
      "text/plain": [
       "2.454094088872915"
      ]
     },
     "execution_count": 23,
     "metadata": {},
     "output_type": "execute_result"
    }
   ],
   "source": [
    "'''\n",
    "Log-likelihood\n",
    "\n",
    "Kind of like a loss function for this kind of modeling\n",
    "Log of the probability that the dataset is reproduced by the model\n",
    "Usually negated to observe the convention of minimizing loss functions\n",
    "'''\n",
    "log_likelihood = 0.0\n",
    "n = 0\n",
    "\n",
    "for w in words:\n",
    "    chars = ['.'] + list(w) + ['.']\n",
    "    for ch1, ch2 in zip(chars, chars[1:]):\n",
    "        i1 = str_to_int[ch1]\n",
    "        i2 = str_to_int[ch2]\n",
    "\n",
    "        prob = P[i1, i2]\n",
    "        log_likelihood += torch.log(prob)\n",
    "        n += 1\n",
    "        \n",
    "\n",
    "-log_likelihood.item()/n"
   ]
  }
 ],
 "metadata": {
  "kernelspec": {
   "display_name": ".venv",
   "language": "python",
   "name": "python3"
  },
  "language_info": {
   "codemirror_mode": {
    "name": "ipython",
    "version": 3
   },
   "file_extension": ".py",
   "mimetype": "text/x-python",
   "name": "python",
   "nbconvert_exporter": "python",
   "pygments_lexer": "ipython3",
   "version": "3.13.1"
  }
 },
 "nbformat": 4,
 "nbformat_minor": 2
}
