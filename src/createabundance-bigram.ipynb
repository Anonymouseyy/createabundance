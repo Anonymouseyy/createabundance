{
 "cells": [
  {
   "cell_type": "code",
   "execution_count": 32,
   "metadata": {},
   "outputs": [
    {
     "data": {
      "text/plain": [
       "32033"
      ]
     },
     "execution_count": 32,
     "metadata": {},
     "output_type": "execute_result"
    }
   ],
   "source": [
    "words = open('names.txt', 'r').read().splitlines()\n",
    "len(words)"
   ]
  },
  {
   "cell_type": "code",
   "execution_count": 33,
   "metadata": {},
   "outputs": [],
   "source": [
    "bigram_model = {}\n",
    "\n",
    "for w in words:\n",
    "    chars = ['<S>'] + list(w) + ['<E>']\n",
    "    for ch1, ch2 in zip(chars, chars[1:]):\n",
    "        bigram = (ch1, ch2)\n",
    "        bigram_model[bigram] = bigram_model.get(bigram, 0) + 1"
   ]
  },
  {
   "cell_type": "code",
   "execution_count": 34,
   "metadata": {},
   "outputs": [],
   "source": [
    "import torch"
   ]
  },
  {
   "cell_type": "code",
   "execution_count": 35,
   "metadata": {},
   "outputs": [],
   "source": [
    "N = torch.zeros((27, 27), dtype=torch.int32)\n",
    "\n",
    "chars = sorted(list(set(''.join(words))))\n",
    "str_to_int = {s: i+1 for i, s in enumerate(chars)}\n",
    "str_to_int['.'] = 0\n",
    "int_to_str = {i: s for s, i in str_to_int.items()}\n",
    "\n",
    "for w in words:\n",
    "    chars = ['.'] + list(w) + ['.']\n",
    "    for ch1, ch2 in zip(chars, chars[1:]):\n",
    "        i1 = str_to_int[ch1]\n",
    "        i2 = str_to_int[ch2]\n",
    "\n",
    "        N[i1, i2] += 1"
   ]
  },
  {
   "cell_type": "code",
   "execution_count": 42,
   "metadata": {},
   "outputs": [
    {
     "data": {
      "text/plain": [
       "'kodoleiyn'"
      ]
     },
     "execution_count": 42,
     "metadata": {},
     "output_type": "execute_result"
    }
   ],
   "source": [
    "p = N[0].float()\n",
    "p /= p.sum()\n",
    "g = torch.Generator()\n",
    "char = int_to_str[torch.multinomial(p, num_samples=1, replacement=True, generator=g).item()]\n",
    "new_name = char\n",
    "\n",
    "while char != '.':\n",
    "    p = N[str_to_int[char]].float()\n",
    "    p /= p.sum()    \n",
    "    char = int_to_str[torch.multinomial(p, num_samples=1, replacement=True, generator=g).item()]\n",
    "    new_name += char\n",
    "\n",
    "new_name = new_name[:-1]\n",
    "new_name"
   ]
  }
 ],
 "metadata": {
  "kernelspec": {
   "display_name": ".venv",
   "language": "python",
   "name": "python3"
  },
  "language_info": {
   "codemirror_mode": {
    "name": "ipython",
    "version": 3
   },
   "file_extension": ".py",
   "mimetype": "text/x-python",
   "name": "python",
   "nbconvert_exporter": "python",
   "pygments_lexer": "ipython3",
   "version": "3.13.1"
  }
 },
 "nbformat": 4,
 "nbformat_minor": 2
}
