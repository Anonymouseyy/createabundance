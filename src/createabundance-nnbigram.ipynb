{
 "cells": [
  {
   "cell_type": "code",
   "execution_count": 287,
   "metadata": {},
   "outputs": [
    {
     "data": {
      "text/plain": [
       "32033"
      ]
     },
     "execution_count": 287,
     "metadata": {},
     "output_type": "execute_result"
    }
   ],
   "source": [
    "words = open('names.txt', 'r').read().splitlines()\n",
    "len(words)"
   ]
  },
  {
   "cell_type": "code",
   "execution_count": 288,
   "metadata": {},
   "outputs": [],
   "source": [
    "chars = sorted(list(set(''.join(words))))\n",
    "str_to_int = {s: i+1 for i, s in enumerate(chars)}\n",
    "str_to_int['.'] = 0\n",
    "int_to_str = {i: s for s, i in str_to_int.items()}"
   ]
  },
  {
   "cell_type": "code",
   "execution_count": 289,
   "metadata": {},
   "outputs": [
    {
     "name": "stdout",
     "output_type": "stream",
     "text": [
      "Num examples: 228146\n"
     ]
    }
   ],
   "source": [
    "# create training set of bigrams (x, y)\n",
    "import torch\n",
    "xs, ys = [], []\n",
    "\n",
    "for w in words:\n",
    "    chars = ['.'] + list(w) + ['.']\n",
    "    for ch1, ch2 in zip(chars, chars[1:]):\n",
    "        i1 = str_to_int[ch1]\n",
    "        i2 = str_to_int[ch2]\n",
    "\n",
    "        xs.append(i1)\n",
    "        ys.append(i2)\n",
    "\n",
    "xs = torch.tensor(xs)\n",
    "ys = torch.tensor(ys)\n",
    "batch_size = xs.nelement()\n",
    "print(f'Num examples: {batch_size}')"
   ]
  },
  {
   "cell_type": "code",
   "execution_count": 290,
   "metadata": {},
   "outputs": [],
   "source": [
    "import torch.nn.functional as F\n",
    "\n",
    "g = torch.Generator() # Consistent numbers\n",
    "\n",
    "'''\n",
    "W essentially becomes like N from normal bigram\n",
    "Matrix multiplication essentially just picks out the correct row of W then it gets normalized\n",
    "One hot with 0s and 1s essentially just preserves that row\n",
    "'''\n",
    "W = torch.randn((27, 27), requires_grad=True, generator=g) # Fills with random floats based on normal distribution"
   ]
  },
  {
   "cell_type": "code",
   "execution_count": 291,
   "metadata": {},
   "outputs": [
    {
     "name": "stdout",
     "output_type": "stream",
     "text": [
      "Step 0 with loss 3.967561960220337\n",
      "Step 100 with loss 2.587512254714966\n",
      "Step 200 with loss 2.5863962173461914\n",
      "Step 300 with loss 2.5863640308380127\n",
      "Step 400 with loss 2.586362600326538\n",
      "Final loss: 2.586362600326538\n"
     ]
    }
   ],
   "source": [
    "steps = 500\n",
    "lr = 50\n",
    "\n",
    "for i in range(steps):\n",
    "    # Forward pass\n",
    "    xenc = F.one_hot(xs, num_classes=27).float()\n",
    "    logits = xenc @ W # Log counts, one pass of a neural net with 1 linear layer\n",
    "    counts = logits.exp() # Equivalent to N from normal bigram\n",
    "    probs = counts / counts.sum(1, keepdim=True) # Create probabilities\n",
    "    # Previous 2 lines form a softmax\n",
    "    loss = -probs[torch.arange(batch_size), ys].log().mean() + 0.1*(W**2).mean() # Regularization loss for smoother distribution\n",
    "\n",
    "    # Backward pass\n",
    "    W.grad = None # Zero grads\n",
    "    loss.backward()\n",
    "\n",
    "    # Gradient descent\n",
    "    W.data += -lr * W.grad\n",
    "\n",
    "    if i % 100 == 0:\n",
    "        print(f'Step {i} with loss {loss.item()}')\n",
    "\n",
    "print(f'Final loss: {loss.item()}')"
   ]
  },
  {
   "cell_type": "code",
   "execution_count": 292,
   "metadata": {},
   "outputs": [
    {
     "name": "stdout",
     "output_type": "stream",
     "text": [
      "la\n",
      "m\n",
      "kamenhbridhahmasgrezari\n",
      "hdolknrs\n",
      "beryalon\n",
      "alyn\n",
      "lio\n",
      "rmelycin\n",
      "aneijuelli\n",
      "trkarinayneviefpienawwanahinahiesjoamdn\n"
     ]
    }
   ],
   "source": [
    "names = 10\n",
    "\n",
    "for _ in range(names):\n",
    "    new_name = ''\n",
    "    ix = 0\n",
    "\n",
    "    while True:\n",
    "        xenc = F.one_hot(torch.tensor([ix]), num_classes=27).float()\n",
    "        logits = xenc @ W\n",
    "\n",
    "        counts = logits.exp() # Softmax\n",
    "        probs = counts / counts.sum(1, keepdim=True) # Create probabilities\n",
    "\n",
    "        ix = torch.multinomial(probs, num_samples=1, replacement=True, generator=g).item()\n",
    "        new_name += int_to_str[ix]\n",
    "\n",
    "        if ix == 0:\n",
    "            break\n",
    "\n",
    "    new_name = new_name[:-1]\n",
    "    print(new_name)"
   ]
  }
 ],
 "metadata": {
  "kernelspec": {
   "display_name": ".venv",
   "language": "python",
   "name": "python3"
  },
  "language_info": {
   "codemirror_mode": {
    "name": "ipython",
    "version": 3
   },
   "file_extension": ".py",
   "mimetype": "text/x-python",
   "name": "python",
   "nbconvert_exporter": "python",
   "pygments_lexer": "ipython3",
   "version": "3.13.1"
  }
 },
 "nbformat": 4,
 "nbformat_minor": 2
}
