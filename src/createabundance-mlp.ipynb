{
 "cells": [
  {
   "cell_type": "code",
   "execution_count": 42,
   "metadata": {},
   "outputs": [
    {
     "data": {
      "text/plain": [
       "32033"
      ]
     },
     "execution_count": 42,
     "metadata": {},
     "output_type": "execute_result"
    }
   ],
   "source": [
    "import torch\n",
    "import torch.nn.functional as F\n",
    "\n",
    "words = open('names.txt', 'r').read().splitlines()\n",
    "len(words)"
   ]
  },
  {
   "cell_type": "code",
   "execution_count": 43,
   "metadata": {},
   "outputs": [],
   "source": [
    "chars = sorted(list(set(''.join(words))))\n",
    "str_to_int = {s: i+1 for i, s in enumerate(chars)}\n",
    "str_to_int['.'] = 0\n",
    "int_to_str = {i: s for s, i in str_to_int.items()}"
   ]
  },
  {
   "cell_type": "code",
   "execution_count": 44,
   "metadata": {},
   "outputs": [],
   "source": [
    "block_size = 3 # Context length - how many characters to input\n",
    "vocab_size = len(chars) + 1 # 27\n",
    "\n",
    "def build_dataset(words):\n",
    "    X, Y = [], []\n",
    "\n",
    "    for w in words:\n",
    "        context = [0] * block_size\n",
    "        \n",
    "        for char in w + '.':\n",
    "            ix = str_to_int[char]\n",
    "\n",
    "            X.append(context)\n",
    "            Y.append(ix)\n",
    "\n",
    "            context = context[1:] + [ix]\n",
    "\n",
    "    X = torch.tensor(X)\n",
    "    Y = torch.tensor(Y)\n",
    "    \n",
    "    return X, Y\n",
    "\n",
    "# Split dataset into training, dev, and test sets\n",
    "import random\n",
    "random.shuffle(words)\n",
    "n1 = int(0.8*len(words))\n",
    "n2 = int(0.9*len(words))\n",
    "\n",
    "Xtr, Ytr = build_dataset(words[:n1])\n",
    "Xdev, Ydev = build_dataset(words[n1:n2])\n",
    "Xte, Yte = build_dataset(words[n2:])"
   ]
  },
  {
   "cell_type": "code",
   "execution_count": 51,
   "metadata": {},
   "outputs": [
    {
     "data": {
      "text/plain": [
       "'Num parameters: 11897'"
      ]
     },
     "execution_count": 51,
     "metadata": {},
     "output_type": "execute_result"
    }
   ],
   "source": [
    "emb_size = 10 # Lenght of tensor that represents each character\n",
    "hidden_layer_neurons = 200\n",
    "\n",
    "C = torch.randn((vocab_size, emb_size), requires_grad=True)\n",
    "W1 = torch.randn((emb_size*block_size, hidden_layer_neurons), requires_grad=True)\n",
    "b1 = torch.randn(hidden_layer_neurons, requires_grad=True)\n",
    "W2 = torch.randn((hidden_layer_neurons, vocab_size), requires_grad=True)\n",
    "b2 = torch.randn(vocab_size, requires_grad=True)\n",
    "parameters = [C, W1, b1, W2, b2]\n",
    "\n",
    "f'Num parameters: {sum(p.nelement() for p in parameters)}'"
   ]
  },
  {
   "cell_type": "code",
   "execution_count": 58,
   "metadata": {},
   "outputs": [
    {
     "data": {
      "text/plain": [
       "'Loss: 1.7945023775100708'"
      ]
     },
     "execution_count": 58,
     "metadata": {},
     "output_type": "execute_result"
    }
   ],
   "source": [
    "# Training\n",
    "lr = 0.001 # 0.1 -> 0.01 -> 0.005 -> -0.001 for \n",
    "steps = 50000\n",
    "minibatch_size = 32\n",
    "\n",
    "for i in range(steps):\n",
    "    \n",
    "    # Mini-batch\n",
    "    ix = torch.randint(0, Xtr.shape[0], (minibatch_size,))\n",
    "\n",
    "    # Forward pass\n",
    "    emb = C[Xtr[ix]] # (X.shape[0], block_size, emb_size)\n",
    "    h = torch.tanh(emb.view(-1, emb_size*block_size) @ W1 + b1) # -1 means infer - (X.shape[0], block_size*emb_size)\n",
    "    logits = h @ W2 + b2 # (X.shape[0], vocab_size)\n",
    "\n",
    "    # counts = logits.exp()\n",
    "    # prob = counts / counts.sum(1, keepdim=True)\n",
    "    # loss = -prob[torch.arange(16), Y].log().mean()\n",
    "\n",
    "    loss = F.cross_entropy(logits, Ytr[ix]) # Way more efficient and same result as 3 previous lines\n",
    "\n",
    "    # Backward pass\n",
    "    for p in parameters:\n",
    "        p.grad = None\n",
    "    loss.backward()\n",
    "\n",
    "    # Update\n",
    "    for p in parameters:\n",
    "        p.data += -lr * p.grad\n",
    "\n",
    "f'Loss: {loss.item()}'"
   ]
  },
  {
   "cell_type": "code",
   "execution_count": 59,
   "metadata": {},
   "outputs": [
    {
     "data": {
      "text/plain": [
       "2.157236099243164"
      ]
     },
     "execution_count": 59,
     "metadata": {},
     "output_type": "execute_result"
    }
   ],
   "source": [
    "# Dev loss\n",
    "\n",
    "emb = C[Xdev] # (X.shape[0], block_size, emb_size)\n",
    "h = torch.tanh(emb.view(-1, emb_size*block_size) @ W1 + b1) # -1 means infer - (X.shape[0], block_size*emb_size)\n",
    "logits = h @ W2 + b2 # (X.shape[0], vocab_size)\n",
    "loss = F.cross_entropy(logits, Ydev)\n",
    "loss.item()"
   ]
  },
  {
   "cell_type": "code",
   "execution_count": 61,
   "metadata": {},
   "outputs": [
    {
     "data": {
      "text/plain": [
       "2.1437723636627197"
      ]
     },
     "execution_count": 61,
     "metadata": {},
     "output_type": "execute_result"
    }
   ],
   "source": [
    "# Test loss\n",
    "\n",
    "emb = C[Xte] # (X.shape[0], block_size, emb_size)\n",
    "h = torch.tanh(emb.view(-1, emb_size*block_size) @ W1 + b1) # -1 means infer - (X.shape[0], block_size*emb_size)\n",
    "logits = h @ W2 + b2 # (X.shape[0], vocab_size)\n",
    "loss = F.cross_entropy(logits, Yte)\n",
    "loss.item()"
   ]
  },
  {
   "cell_type": "code",
   "execution_count": 60,
   "metadata": {},
   "outputs": [
    {
     "name": "stdout",
     "output_type": "stream",
     "text": [
      "kodolaiyah\n",
      "vilyn\n",
      "kawia\n",
      "jalon\n",
      "helin\n",
      "nivaod\n",
      "jevord\n",
      "arvellyanna\n",
      "mazett\n",
      "azelyza\n",
      "kas\n",
      "zica\n",
      "nivikristonwikvuett\n",
      "wlovanziah\n",
      "matha\n",
      "ami\n",
      "davi\n",
      "halyn\n",
      "anianealynn\n",
      "naya\n"
     ]
    }
   ],
   "source": [
    "# Sampling\n",
    "\n",
    "g = torch.Generator()\n",
    "names = 20\n",
    "\n",
    "for _ in range(20):\n",
    "    out = ''\n",
    "    context = [0] * block_size\n",
    "\n",
    "    while True:\n",
    "        emb = C[context] # (X.shape[0], block_size, emb_size)\n",
    "        h = torch.tanh(emb.view(-1, emb_size*block_size) @ W1 + b1) # -1 means infer - (X.shape[0], block_size*emb_size)\n",
    "        logits = h @ W2 + b2 # (X.shape[0], vocab_size)\n",
    "\n",
    "        probs = F.softmax(logits, dim=1)\n",
    "        ix = torch.multinomial(probs, num_samples=1, generator=g).item()\n",
    "\n",
    "        if ix == 0:\n",
    "            break\n",
    "\n",
    "        out += int_to_str[ix]\n",
    "        context = context[1:] + [ix]\n",
    "    \n",
    "    print(out)"
   ]
  }
 ],
 "metadata": {
  "kernelspec": {
   "display_name": ".venv",
   "language": "python",
   "name": "python3"
  },
  "language_info": {
   "codemirror_mode": {
    "name": "ipython",
    "version": 3
   },
   "file_extension": ".py",
   "mimetype": "text/x-python",
   "name": "python",
   "nbconvert_exporter": "python",
   "pygments_lexer": "ipython3",
   "version": "3.13.1"
  }
 },
 "nbformat": 4,
 "nbformat_minor": 2
}
