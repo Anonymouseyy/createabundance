{
 "cells": [
  {
   "cell_type": "code",
   "execution_count": 1,
   "metadata": {},
   "outputs": [
    {
     "data": {
      "text/plain": [
       "32033"
      ]
     },
     "execution_count": 1,
     "metadata": {},
     "output_type": "execute_result"
    }
   ],
   "source": [
    "import torch\n",
    "import torch.nn.functional as F\n",
    "\n",
    "words = open('names.txt', 'r').read().splitlines()\n",
    "len(words)"
   ]
  },
  {
   "cell_type": "code",
   "execution_count": 2,
   "metadata": {},
   "outputs": [],
   "source": [
    "chars = sorted(list(set(''.join(words))))\n",
    "str_to_int = {s: i+1 for i, s in enumerate(chars)}\n",
    "str_to_int['.'] = 0\n",
    "int_to_str = {i: s for s, i in str_to_int.items()}"
   ]
  },
  {
   "cell_type": "code",
   "execution_count": 3,
   "metadata": {},
   "outputs": [],
   "source": [
    "block_size = 3 # Context length - how many characters to input\n",
    "vocab_size = len(chars) + 1 # 27\n",
    "\n",
    "def build_dataset(words):\n",
    "    X, Y = [], []\n",
    "\n",
    "    for w in words:\n",
    "        context = [0] * block_size\n",
    "        \n",
    "        for char in w + '.':\n",
    "            ix = str_to_int[char]\n",
    "\n",
    "            X.append(context)\n",
    "            Y.append(ix)\n",
    "\n",
    "            context = context[1:] + [ix]\n",
    "\n",
    "    X = torch.tensor(X)\n",
    "    Y = torch.tensor(Y)\n",
    "    \n",
    "    return X, Y\n",
    "\n",
    "# Split dataset into training, dev, and test sets\n",
    "import random\n",
    "random.shuffle(words)\n",
    "n1 = int(0.8*len(words))\n",
    "n2 = int(0.9*len(words))\n",
    "\n",
    "Xtr, Ytr = build_dataset(words[:n1])\n",
    "Xdev, Ydev = build_dataset(words[n1:n2])\n",
    "Xte, Yte = build_dataset(words[n2:])"
   ]
  },
  {
   "cell_type": "code",
   "execution_count": 4,
   "metadata": {},
   "outputs": [
    {
     "data": {
      "text/plain": [
       "'Num parameters: 11897'"
      ]
     },
     "execution_count": 4,
     "metadata": {},
     "output_type": "execute_result"
    }
   ],
   "source": [
    "emb_size = 10 # Lenght of tensor that represents each character\n",
    "hidden_layer_neurons = 200\n",
    "\n",
    "C = torch.randn((vocab_size, emb_size))\n",
    "W1 = torch.randn((emb_size*block_size, hidden_layer_neurons)) * 0.1 # Fix saturated tanh and dead neurons\n",
    "b1 = torch.randn(hidden_layer_neurons) * 0.01\n",
    "W2 = torch.randn((hidden_layer_neurons, vocab_size)) * 0.01 # Lower values of W2 and b2 equalizes the logits and creates a better starting loss\n",
    "b2 = torch.randn(vocab_size) * 0\n",
    "\n",
    "parameters = [C, W1, b1, W2, b2]\n",
    "for p in parameters:\n",
    "    p.requires_grad = True\n",
    "\n",
    "f'Num parameters: {sum(p.nelement() for p in parameters)}'"
   ]
  },
  {
   "cell_type": "code",
   "execution_count": 5,
   "metadata": {},
   "outputs": [
    {
     "data": {
      "text/plain": [
       "'Loss: 2.1790928840637207'"
      ]
     },
     "execution_count": 5,
     "metadata": {},
     "output_type": "execute_result"
    }
   ],
   "source": [
    "# Training\n",
    "lr = 0.1 # 0.1 -> 0.01 -> 0.005 -> 0.001 for \n",
    "steps = 50000\n",
    "minibatch_size = 32\n",
    "\n",
    "for i in range(steps):\n",
    "    \n",
    "    # Mini-batch\n",
    "    ix = torch.randint(0, Xtr.shape[0], (minibatch_size,))\n",
    "\n",
    "    # Forward pass\n",
    "    emb = C[Xtr[ix]] # (X.shape[0], block_size, emb_size)\n",
    "    h = torch.tanh(emb.view(-1, emb_size*block_size) @ W1 + b1) # -1 means infer - (X.shape[0], block_size*emb_size)\n",
    "    logits = h @ W2 + b2 # (X.shape[0], vocab_size)\n",
    "\n",
    "    # counts = logits.exp()\n",
    "    # prob = counts / counts.sum(1, keepdim=True)\n",
    "    # loss = -prob[torch.arange(16), Y].log().mean()\n",
    "\n",
    "    loss = F.cross_entropy(logits, Ytr[ix]) # Way more efficient and same result as 3 previous lines\n",
    "\n",
    "    # Backward pass\n",
    "    for p in parameters:\n",
    "        p.grad = None\n",
    "    loss.backward()\n",
    "\n",
    "    # Update\n",
    "    for p in parameters:\n",
    "        p.data += -lr * p.grad\n",
    "\n",
    "f'Loss: {loss.item()}'"
   ]
  },
  {
   "cell_type": "code",
   "execution_count": 6,
   "metadata": {},
   "outputs": [
    {
     "data": {
      "text/plain": [
       "2.1905815601348877"
      ]
     },
     "execution_count": 6,
     "metadata": {},
     "output_type": "execute_result"
    }
   ],
   "source": [
    "# Dev loss\n",
    "\n",
    "emb = C[Xdev] # (X.shape[0], block_size, emb_size)\n",
    "h = torch.tanh(emb.view(-1, emb_size*block_size) @ W1 + b1) # -1 means infer - (X.shape[0], block_size*emb_size)\n",
    "logits = h @ W2 + b2 # (X.shape[0], vocab_size)\n",
    "loss = F.cross_entropy(logits, Ydev)\n",
    "loss.item()"
   ]
  },
  {
   "cell_type": "code",
   "execution_count": 7,
   "metadata": {},
   "outputs": [
    {
     "data": {
      "text/plain": [
       "2.1901607513427734"
      ]
     },
     "execution_count": 7,
     "metadata": {},
     "output_type": "execute_result"
    }
   ],
   "source": [
    "# Test loss\n",
    "\n",
    "emb = C[Xte] # (X.shape[0], block_size, emb_size)\n",
    "h = torch.tanh(emb.view(-1, emb_size*block_size) @ W1 + b1) # -1 means infer - (X.shape[0], block_size*emb_size)\n",
    "logits = h @ W2 + b2 # (X.shape[0], vocab_size)\n",
    "loss = F.cross_entropy(logits, Yte)\n",
    "loss.item()"
   ]
  },
  {
   "cell_type": "code",
   "execution_count": 8,
   "metadata": {},
   "outputs": [
    {
     "name": "stdout",
     "output_type": "stream",
     "text": [
      "cylianngstonnah\n",
      "lelia\n",
      "kipias\n",
      "ail\n",
      "julia\n",
      "tyershrnael\n",
      "rehlynne\n",
      "nazir\n",
      "tamadehbuski\n",
      "stanah\n",
      "kiook\n",
      "artel\n",
      "elev\n",
      "abriel\n",
      "maxivydan\n",
      "taiden\n",
      "eda\n",
      "thadavero\n",
      "daerin\n",
      "melia\n"
     ]
    }
   ],
   "source": [
    "# Sampling\n",
    "\n",
    "g = torch.Generator()\n",
    "names = 20\n",
    "\n",
    "for _ in range(20):\n",
    "    out = ''\n",
    "    context = [0] * block_size\n",
    "\n",
    "    while True:\n",
    "        emb = C[context] # (X.shape[0], block_size, emb_size)\n",
    "        h = torch.tanh(emb.view(-1, emb_size*block_size) @ W1 + b1) # -1 means infer - (X.shape[0], block_size*emb_size)\n",
    "        logits = h @ W2 + b2 # (X.shape[0], vocab_size)\n",
    "\n",
    "        probs = F.softmax(logits, dim=1)\n",
    "        ix = torch.multinomial(probs, num_samples=1).item()\n",
    "\n",
    "        if ix == 0:\n",
    "            break\n",
    "\n",
    "        out += int_to_str[ix]\n",
    "        context = context[1:] + [ix]\n",
    "    \n",
    "    print(out)"
   ]
  }
 ],
 "metadata": {
  "kernelspec": {
   "display_name": ".venv",
   "language": "python",
   "name": "python3"
  },
  "language_info": {
   "codemirror_mode": {
    "name": "ipython",
    "version": 3
   },
   "file_extension": ".py",
   "mimetype": "text/x-python",
   "name": "python",
   "nbconvert_exporter": "python",
   "pygments_lexer": "ipython3",
   "version": "3.13.1"
  }
 },
 "nbformat": 4,
 "nbformat_minor": 2
}
